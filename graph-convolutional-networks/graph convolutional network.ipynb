{
 "cells": [
  {
   "cell_type": "markdown",
   "metadata": {},
   "source": [
    "The basics of this notebook come from [here](\"https://towardsdatascience.com/understanding-graph-convolutional-networks-for-node-classification-a2bfdb7aba7b\").\n",
    "\n",
    "The main objective is to explore the integration of word embeddings in graph representations."
   ]
  },
  {
   "cell_type": "code",
   "execution_count": 3,
   "metadata": {},
   "outputs": [],
   "source": [
    "import networkx as nx\n",
    "import numpy as np\n",
    "import matplotlib.pyplot as plt\n",
    "from scipy.linalg import fractional_matrix_power\n",
    "import random"
   ]
  },
  {
   "cell_type": "code",
   "execution_count": 2,
   "metadata": {},
   "outputs": [],
   "source": [
    "import warnings\n",
    "warnings.filterwarnings(\"ignore\", category=UserWarning)"
   ]
  },
  {
   "cell_type": "code",
   "execution_count": 71,
   "metadata": {},
   "outputs": [
    {
     "data": {
      "image/png": "[encoded data removed]",
      "text/plain": [
       "<Figure size 432x288 with 1 Axes>"
      ]
     },
     "metadata": {},
     "output_type": "display_data"
    }
   ],
   "source": [
    "#graph initialization\n",
    "G = nx.Graph(name='G')\n",
    "\n",
    "num_nodes = 10\n",
    "num_edges = 12\n",
    "\n",
    "for i in range(num_nodes):\n",
    "    G.add_node(i, name=i)\n",
    "    \n",
    "    G.nodes[i][\"vector\"] = list(np.random.randint(2, size=10))\n",
    "\n",
    "\n",
    "subjects = np.random.choice(range(0, num_nodes), size=num_edges, replace=True)\n",
    "objects = np.random.choice(range(0, num_nodes), size=num_edges, replace=True)\n",
    "\n",
    "\n",
    "for i in range(num_edges):\n",
    "    G.add_edge(subjects[i], objects[i])\n",
    "\n",
    "    \n",
    "nx.draw(G, with_labels=True, font_weight='bold')\n",
    "plt.show()"
   ]
  },
  {
   "cell_type": "code",
   "execution_count": 74,
   "metadata": {},
   "outputs": [
    {
     "name": "stdout",
     "output_type": "stream",
     "text": [
      "Shape of A:  (10, 10)\n",
      "\n",
      "Shape of X:  (10, 1)\n",
      "\n",
      "Adjacency Matrix (A):\n",
      " [[0. 0. 0. 0. 0. 0. 0. 0. 0. 1.]\n",
      " [0. 0. 1. 0. 0. 0. 0. 1. 0. 0.]\n",
      " [0. 1. 0. 0. 0. 1. 0. 0. 0. 0.]\n",
      " [0. 0. 0. 0. 0. 1. 0. 0. 1. 0.]\n",
      " [0. 0. 0. 0. 0. 0. 0. 1. 0. 0.]\n",
      " [0. 0. 1. 1. 0. 0. 1. 0. 0. 0.]\n",
      " [0. 0. 0. 0. 0. 1. 0. 1. 0. 1.]\n",
      " [0. 1. 0. 0. 1. 0. 1. 0. 0. 1.]\n",
      " [0. 0. 0. 1. 0. 0. 0. 0. 0. 0.]\n",
      " [1. 0. 0. 0. 0. 0. 1. 1. 0. 0.]]\n",
      "\n",
      "Node Features Matrix (X):\n",
      " [[0]\n",
      " [1]\n",
      " [2]\n",
      " [3]\n",
      " [4]\n",
      " [5]\n",
      " [6]\n",
      " [7]\n",
      " [8]\n",
      " [9]]\n"
     ]
    },
    {
     "name": "stderr",
     "output_type": "stream",
     "text": [
      "/tmp/ipykernel_21089/2374077452.py:3: FutureWarning: attr_matrix will return an numpy.ndarray instead of a numpy.matrix in NetworkX 3.0.\n",
      "  A = np.array(nx.attr_matrix(G, node_attr='name')[0])\n",
      "/tmp/ipykernel_21089/2374077452.py:7: FutureWarning: attr_matrix will return an numpy.ndarray instead of a numpy.matrix in NetworkX 3.0.\n",
      "  X = np.array(nx.attr_matrix(G, node_attr='name')[1])\n"
     ]
    }
   ],
   "source": [
    "#get the adjacency matrix A\n",
    "\n",
    "A = np.array(nx.attr_matrix(G, node_attr='name')[0])\n",
    "\n",
    "#get the node feature matrix X\n",
    "\n",
    "X = np.array(nx.attr_matrix(G, node_attr='name')[1])\n",
    "X = np.expand_dims(X,axis=1)\n",
    "\n",
    "print('Shape of A: ', A.shape)\n",
    "print('\\nShape of X: ', X.shape)\n",
    "print('\\nAdjacency Matrix (A):\\n', A)\n",
    "print('\\nNode Features Matrix (X):\\n', X)"
   ]
  },
  {
   "cell_type": "code",
   "execution_count": 75,
   "metadata": {},
   "outputs": [
    {
     "name": "stdout",
     "output_type": "stream",
     "text": [
      "Vector Matrix (V):\n",
      " [[1 0 0 1 0 1 0 1 1 0]\n",
      " [0 0 0 1 0 1 0 1 1 0]\n",
      " [1 1 0 0 1 0 1 1 0 1]\n",
      " [0 1 1 0 0 0 1 0 1 0]\n",
      " [0 1 1 1 0 1 0 1 1 1]\n",
      " [1 1 0 0 0 0 0 1 0 1]\n",
      " [0 0 1 0 1 1 1 0 1 0]\n",
      " [1 1 0 1 1 1 1 1 1 1]\n",
      " [1 0 0 1 0 1 1 1 0 0]\n",
      " [0 1 0 0 0 1 0 1 1 0]]\n"
     ]
    }
   ],
   "source": [
    "# V will be a matrix of the vectors attributes\n",
    "V = []\n",
    "\n",
    "for node in G.nodes:\n",
    "    vector = G.nodes[node]['vector']\n",
    "    V.append(vector)\n",
    "\n",
    "V = np.array(V)\n",
    "print('Vector Matrix (V):\\n', V)"
   ]
  },
  {
   "cell_type": "code",
   "execution_count": 76,
   "metadata": {},
   "outputs": [
    {
     "name": "stdout",
     "output_type": "stream",
     "text": [
      "Dot product of A and X (AX):\n",
      " [[ 9.]\n",
      " [ 9.]\n",
      " [ 6.]\n",
      " [13.]\n",
      " [ 7.]\n",
      " [11.]\n",
      " [21.]\n",
      " [20.]\n",
      " [ 3.]\n",
      " [13.]]\n",
      "Dot product of A and V (AV):\n",
      " [[0. 1. 0. 0. 0. 1. 0. 1. 1. 0.]\n",
      " [2. 2. 0. 1. 2. 1. 2. 2. 1. 2.]\n",
      " [1. 1. 0. 1. 0. 1. 0. 2. 1. 1.]\n",
      " [2. 1. 0. 1. 0. 1. 1. 2. 0. 1.]\n",
      " [1. 1. 0. 1. 1. 1. 1. 1. 1. 1.]\n",
      " [1. 2. 2. 0. 2. 1. 3. 1. 2. 1.]\n",
      " [2. 3. 0. 1. 1. 2. 1. 3. 2. 2.]\n",
      " [0. 2. 2. 2. 1. 4. 1. 3. 4. 1.]\n",
      " [0. 1. 1. 0. 0. 0. 1. 0. 1. 0.]\n",
      " [2. 1. 1. 2. 2. 3. 2. 2. 3. 1.]]\n"
     ]
    }
   ],
   "source": [
    "#Dot product Adjacency Matrix (A) and Node Features (X)\n",
    "#each row in X corresponds to the sum of the features (in this case 0,1,..,n)\n",
    "#connected to a specific node\n",
    "#for instance, X[0][0] corresponds to the sum of features for eache node connected to the node 0\n",
    "AX = np.dot(A,X)\n",
    "print(\"Dot product of A and X (AX):\\n\", AX)\n",
    "\n",
    "# this is more interesting since it has several features: both information from neighbors AND vectors\n",
    "AV = np.dot(A,V)\n",
    "print(\"Dot product of A and V (AV):\\n\", AV)\n",
    "\n",
    "\n",
    "# the only issue we have is the lack of information from the node itself\n",
    "# solution: add self loops "
   ]
  },
  {
   "cell_type": "code",
   "execution_count": 77,
   "metadata": {},
   "outputs": [
    {
     "name": "stdout",
     "output_type": "stream",
     "text": [
      "Edges of G with self-loops:\n",
      " [(0, 9), (0, 0), (1, 2), (1, 7), (1, 1), (2, 5), (2, 2), (3, 8), (3, 5), (3, 3), (4, 7), (4, 4), (5, 6), (5, 5), (6, 9), (6, 7), (6, 6), (7, 9), (7, 7), (8, 8), (9, 9)]\n",
      "Adjacency Matrix of added self-loops G (A_hat):\n",
      " [[1. 0. 0. 0. 0. 0. 0. 0. 0. 1.]\n",
      " [0. 1. 1. 0. 0. 0. 0. 1. 0. 0.]\n",
      " [0. 1. 1. 0. 0. 1. 0. 0. 0. 0.]\n",
      " [0. 0. 0. 1. 0. 1. 0. 0. 1. 0.]\n",
      " [0. 0. 0. 0. 1. 0. 0. 1. 0. 0.]\n",
      " [0. 0. 1. 1. 0. 1. 1. 0. 0. 0.]\n",
      " [0. 0. 0. 0. 0. 1. 1. 1. 0. 1.]\n",
      " [0. 1. 0. 0. 1. 0. 1. 1. 0. 1.]\n",
      " [0. 0. 0. 1. 0. 0. 0. 0. 1. 0.]\n",
      " [1. 0. 0. 0. 0. 0. 1. 1. 0. 1.]]\n",
      "AX:\n",
      " [[ 9.]\n",
      " [10.]\n",
      " [ 8.]\n",
      " [16.]\n",
      " [11.]\n",
      " [16.]\n",
      " [27.]\n",
      " [27.]\n",
      " [11.]\n",
      " [22.]]\n",
      "AV:\n",
      " [[1. 1. 0. 1. 0. 2. 0. 2. 2. 0.]\n",
      " [2. 2. 0. 2. 2. 2. 2. 3. 2. 2.]\n",
      " [2. 2. 0. 1. 1. 1. 1. 3. 1. 2.]\n",
      " [2. 2. 1. 1. 0. 1. 2. 2. 1. 1.]\n",
      " [1. 2. 1. 2. 1. 2. 1. 2. 2. 2.]\n",
      " [2. 3. 2. 0. 2. 1. 3. 2. 2. 2.]\n",
      " [2. 3. 1. 1. 2. 3. 2. 3. 3. 2.]\n",
      " [1. 3. 2. 3. 2. 5. 2. 4. 5. 2.]\n",
      " [1. 1. 1. 1. 0. 1. 2. 1. 1. 0.]\n",
      " [2. 2. 1. 2. 2. 4. 2. 3. 4. 1.]]\n"
     ]
    },
    {
     "name": "stderr",
     "output_type": "stream",
     "text": [
      "/tmp/ipykernel_21089/2200791179.py:14: FutureWarning: attr_matrix will return an numpy.ndarray instead of a numpy.matrix in NetworkX 3.0.\n",
      "  A_hat = np.array(nx.attr_matrix(G_self_loops, node_attr='name')[0])\n"
     ]
    }
   ],
   "source": [
    "#Add Self Loops\n",
    "G_self_loops = G.copy()\n",
    "\n",
    "self_loops = []\n",
    "for i in range(G.number_of_nodes()):\n",
    "    self_loops.append((i,i))\n",
    "\n",
    "G_self_loops.add_edges_from(self_loops)\n",
    "\n",
    "#Check the edges of G_self_loops after adding the self loops\n",
    "print('Edges of G with self-loops:\\n', G_self_loops.edges)\n",
    "\n",
    "#Get the Adjacency Matrix (A) and Node Features Matrix (X) of added self-lopps graph\n",
    "A_hat = np.array(nx.attr_matrix(G_self_loops, node_attr='name')[0])\n",
    "print('Adjacency Matrix of added self-loops G (A_hat):\\n', A_hat)\n",
    "\n",
    "#Calculate the dot product of A_hat and X (AX)\n",
    "AX = np.dot(A_hat, X)\n",
    "print('AX:\\n', AX)\n",
    "\n",
    "#Calculate the dot product of A_hat and V (AV)\n",
    "AV = np.dot(A_hat, V)\n",
    "print('AV:\\n', AV)"
   ]
  },
  {
   "cell_type": "code",
   "execution_count": 78,
   "metadata": {},
   "outputs": [
    {
     "name": "stdout",
     "output_type": "stream",
     "text": [
      "Degree Matrix of added self-loops G (D):  [(0, 3), (1, 4), (2, 4), (3, 4), (4, 3), (5, 5), (6, 5), (7, 6), (8, 3), (9, 5)]\n",
      "Degree Matrix of added self-loops G as numpy array (D):\n",
      " [[3 0 0 0 0 0 0 0 0 0]\n",
      " [0 4 0 0 0 0 0 0 0 0]\n",
      " [0 0 4 0 0 0 0 0 0 0]\n",
      " [0 0 0 4 0 0 0 0 0 0]\n",
      " [0 0 0 0 3 0 0 0 0 0]\n",
      " [0 0 0 0 0 5 0 0 0 0]\n",
      " [0 0 0 0 0 0 5 0 0 0]\n",
      " [0 0 0 0 0 0 0 6 0 0]\n",
      " [0 0 0 0 0 0 0 0 3 0]\n",
      " [0 0 0 0 0 0 0 0 0 5]]\n",
      "Inverse of D:\n",
      " [[0.33333333 0.         0.         0.         0.         0.\n",
      "  0.         0.         0.         0.        ]\n",
      " [0.         0.25       0.         0.         0.         0.\n",
      "  0.         0.         0.         0.        ]\n",
      " [0.         0.         0.25       0.         0.         0.\n",
      "  0.         0.         0.         0.        ]\n",
      " [0.         0.         0.         0.25       0.         0.\n",
      "  0.         0.         0.         0.        ]\n",
      " [0.         0.         0.         0.         0.33333333 0.\n",
      "  0.         0.         0.         0.        ]\n",
      " [0.         0.         0.         0.         0.         0.2\n",
      "  0.         0.         0.         0.        ]\n",
      " [0.         0.         0.         0.         0.         0.\n",
      "  0.2        0.         0.         0.        ]\n",
      " [0.         0.         0.         0.         0.         0.\n",
      "  0.         0.16666667 0.         0.        ]\n",
      " [0.         0.         0.         0.         0.         0.\n",
      "  0.         0.         0.33333333 0.        ]\n",
      " [0.         0.         0.         0.         0.         0.\n",
      "  0.         0.         0.         0.2       ]]\n",
      "DAX:\n",
      " [[3.        ]\n",
      " [2.5       ]\n",
      " [2.        ]\n",
      " [4.        ]\n",
      " [3.66666667]\n",
      " [3.2       ]\n",
      " [5.4       ]\n",
      " [4.5       ]\n",
      " [3.66666667]\n",
      " [4.4       ]]\n",
      "DAV:\n",
      " [[0.33333333 0.33333333 0.         0.33333333 0.         0.66666667\n",
      "  0.         0.66666667 0.66666667 0.        ]\n",
      " [0.5        0.5        0.         0.5        0.5        0.5\n",
      "  0.5        0.75       0.5        0.5       ]\n",
      " [0.5        0.5        0.         0.25       0.25       0.25\n",
      "  0.25       0.75       0.25       0.5       ]\n",
      " [0.5        0.5        0.25       0.25       0.         0.25\n",
      "  0.5        0.5        0.25       0.25      ]\n",
      " [0.33333333 0.66666667 0.33333333 0.66666667 0.33333333 0.66666667\n",
      "  0.33333333 0.66666667 0.66666667 0.66666667]\n",
      " [0.4        0.6        0.4        0.         0.4        0.2\n",
      "  0.6        0.4        0.4        0.4       ]\n",
      " [0.4        0.6        0.2        0.2        0.4        0.6\n",
      "  0.4        0.6        0.6        0.4       ]\n",
      " [0.16666667 0.5        0.33333333 0.5        0.33333333 0.83333333\n",
      "  0.33333333 0.66666667 0.83333333 0.33333333]\n",
      " [0.33333333 0.33333333 0.33333333 0.33333333 0.         0.33333333\n",
      "  0.66666667 0.33333333 0.33333333 0.        ]\n",
      " [0.4        0.4        0.2        0.4        0.4        0.8\n",
      "  0.4        0.6        0.8        0.2       ]]\n",
      "DADX:\n",
      " [[2.32379001]\n",
      " [2.17886902]\n",
      " [1.86803399]\n",
      " [4.17743507]\n",
      " [2.98324916]\n",
      " [3.31803399]\n",
      " [5.2780193 ]\n",
      " [5.05221264]\n",
      " [3.53269207]\n",
      " [4.2780193 ]]\n",
      "DAV:\n",
      " [[0.33333333 0.33333333 0.         0.33333333 0.         0.66666667\n",
      "  0.         0.66666667 0.66666667 0.        ]\n",
      " [0.5        0.5        0.         0.5        0.5        0.5\n",
      "  0.5        0.75       0.5        0.5       ]\n",
      " [0.5        0.5        0.         0.25       0.25       0.25\n",
      "  0.25       0.75       0.25       0.5       ]\n",
      " [0.5        0.5        0.25       0.25       0.         0.25\n",
      "  0.5        0.5        0.25       0.25      ]\n",
      " [0.33333333 0.66666667 0.33333333 0.66666667 0.33333333 0.66666667\n",
      "  0.33333333 0.66666667 0.66666667 0.66666667]\n",
      " [0.4        0.6        0.4        0.         0.4        0.2\n",
      "  0.6        0.4        0.4        0.4       ]\n",
      " [0.4        0.6        0.2        0.2        0.4        0.6\n",
      "  0.4        0.6        0.6        0.4       ]\n",
      " [0.16666667 0.5        0.33333333 0.5        0.33333333 0.83333333\n",
      "  0.33333333 0.66666667 0.83333333 0.33333333]\n",
      " [0.33333333 0.33333333 0.33333333 0.33333333 0.         0.33333333\n",
      "  0.66666667 0.33333333 0.33333333 0.        ]\n",
      " [0.4        0.4        0.2        0.4        0.4        0.8\n",
      "  0.4        0.6        0.8        0.2       ]]\n"
     ]
    }
   ],
   "source": [
    "# another issue is that this model is currently biased towards nodes with many neighbors\n",
    "# in order to solve this, we should normalize over nodes' degrees\n",
    "\n",
    "#Get the Degree Matrix of the added self-loops graph\n",
    "Deg_Mat = G_self_loops.degree()\n",
    "print('Degree Matrix of added self-loops G (D): ', Deg_Mat)\n",
    "\n",
    "#Convert the Degree Matrix to a N x N matrix where N is the number of nodes\n",
    "D = np.diag([deg for (n,deg) in list(Deg_Mat)])\n",
    "print('Degree Matrix of added self-loops G as numpy array (D):\\n', D)\n",
    "\n",
    "#Find the inverse of Degree Matrix (D)\n",
    "D_inv = np.linalg.inv(D)\n",
    "print('Inverse of D:\\n', D_inv)\n",
    "\n",
    "#Dot product of D and AX for normalization\n",
    "DAX = np.dot(D_inv,AX)\n",
    "print('DAX:\\n', DAX)\n",
    "\n",
    "\n",
    "#Dot product of D and AV for normalization\n",
    "DAV = np.dot(D_inv,AV)\n",
    "print('DAV:\\n', DAV)\n",
    "\n",
    "#Symmetrically-normalization\n",
    "D_half_norm = fractional_matrix_power(D, -0.5)\n",
    "DADX = D_half_norm.dot(A_hat).dot(D_half_norm).dot(X)\n",
    "print('DADX:\\n', DADX)\n",
    "\n",
    "#Dot product of D and AV for symmetrically-normalization\n",
    "DAV = np.dot(D_inv,AV)\n",
    "print('DAV:\\n', DAV)"
   ]
  },
  {
   "cell_type": "code",
   "execution_count": 79,
   "metadata": {},
   "outputs": [
    {
     "name": "stdout",
     "output_type": "stream",
     "text": [
      "...working on iteration 0...\r",
      "...working on iteration 1...\r",
      "...working on iteration 2...\r",
      "...working on iteration 3...\r",
      "...working on iteration 4...\r",
      "...working on iteration 5...\r",
      "...working on iteration 6...\r",
      "...working on iteration 7...\r",
      "...working on iteration 8...\r",
      "...working on iteration 9...\r",
      "Features Representation from GCN output:\n",
      " [[0.00049168 0.00016502 0.00035746]\n",
      " [0.00047762 0.0001603  0.00034724]\n",
      " [0.0004195  0.00014079 0.00030498]\n",
      " [0.00074337 0.00024949 0.00054044]\n",
      " [0.00057975 0.00019458 0.00042149]\n",
      " [0.00071454 0.00023981 0.00051948]\n",
      " [0.00076823 0.00025783 0.00055852]\n",
      " [0.00084576 0.00028386 0.00061488]\n",
      " [0.00070038 0.00023506 0.00050919]\n",
      " [0.00077909 0.00026148 0.00056641]]\n"
     ]
    }
   ],
   "source": [
    "#time to add weights and the activation function (ReLu in this case)\n",
    "\n",
    "#Initialize the weights\n",
    "np.random.seed(77777)\n",
    "n_h = 4 #number of neurons in the hidden layer\n",
    "n_y = 3 #number of neurons in the output layer\n",
    "W0 = np.random.randn(X.shape[1],n_h) * 0.01\n",
    "W1 = np.random.randn(n_h,n_y) * 0.01\n",
    "W_matrix = []\n",
    "\n",
    "#Implement ReLu as activation function\n",
    "def relu(x):\n",
    "    return np.maximum(0,x)\n",
    "\n",
    "#Build GCN layer\n",
    "#In this function, we implement numpy to simplify\n",
    "def gcn(A,H,W):\n",
    "    I = np.identity(A.shape[0]) #create Identity Matrix of A\n",
    "    A_hat = A + I #add self-loop to A\n",
    "    D = np.diag(np.sum(A_hat, axis=0)) #create Degree Matrix of A\n",
    "    D_half_norm = fractional_matrix_power(D, -0.5) #calculate D to the power of -0.5\n",
    "    eq = D_half_norm.dot(A_hat).dot(D_half_norm).dot(H).dot(W)\n",
    "    return relu(eq)\n",
    "\n",
    "\n",
    "#Do forward propagation\n",
    "H1 = gcn(A,X,W0)\n",
    "H2 = gcn(A,H1,W1)\n",
    "\n",
    "max_iter = 10\n",
    "weights = W0\n",
    "features = X\n",
    "for i in range(max_iter):\n",
    "    print(f'...working on iteration {i}...', end='\\r')\n",
    "    h=gcn(A,features,weights)\n",
    "    \n",
    "    \n",
    "print('Features Representation from GCN output:\\n', H2)"
   ]
  },
  {
   "cell_type": "code",
   "execution_count": 80,
   "metadata": {},
   "outputs": [
    {
     "data": {
      "image/png": "[encoded data removed]",
      "text/plain": [
       "<Figure size 432x288 with 1 Axes>"
      ]
     },
     "metadata": {
      "needs_background": "light"
     },
     "output_type": "display_data"
    }
   ],
   "source": [
    "def plot_features(H2):\n",
    "    #Plot the features representation\n",
    "    x = H2[:,0]\n",
    "    y = H2[:,1]\n",
    "\n",
    "    size = 1000\n",
    "\n",
    "    plt.scatter(x,y,size)\n",
    "    plt.xlim([np.min(x)*0.9, np.max(x)*1.1])\n",
    "    plt.ylim([-1, 1])\n",
    "    plt.xlabel('Feature Representation Dimension 0')\n",
    "    plt.ylabel('Feature Representation Dimension 1')\n",
    "    plt.title('Feature Representation')\n",
    "\n",
    "    for i,row in enumerate(H2):\n",
    "        str = \"{}\".format(i)\n",
    "        plt.annotate(str, (row[0],row[1]),fontsize=18, fontweight='bold')\n",
    "\n",
    "    plt.show()\n",
    "\n",
    "\n",
    "plot_features(H2)"
   ]
  },
  {
   "cell_type": "code",
   "execution_count": null,
   "metadata": {},
   "outputs": [],
   "source": []
  }
 ],
 "metadata": {
  "kernelspec": {
   "display_name": "Python 3 (ipykernel)",
   "language": "python",
   "name": "python3"
  },
  "language_info": {
   "codemirror_mode": {
    "name": "ipython",
    "version": 3
   },
   "file_extension": ".py",
   "mimetype": "text/x-python",
   "name": "python",
   "nbconvert_exporter": "python",
   "pygments_lexer": "ipython3",
   "version": "3.10.4"
  }
 },
 "nbformat": 4,
 "nbformat_minor": 4
}
